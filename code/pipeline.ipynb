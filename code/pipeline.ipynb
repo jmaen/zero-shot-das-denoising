{
 "cells": [
  {
   "cell_type": "code",
   "execution_count": null,
   "metadata": {},
   "outputs": [],
   "source": [
    "%load_ext autoreload\n",
    "%autoreload 2\n",
    "%env WANDB_SILENT=true"
   ]
  },
  {
   "cell_type": "code",
   "execution_count": 16,
   "metadata": {},
   "outputs": [],
   "source": [
    "import torch\n",
    "from torchvision.transforms import Resize\n",
    "from torchmetrics.image import PeakSignalNoiseRatio, StructuralSimilarityIndexMeasure, LearnedPerceptualImagePatchSimilarity\n",
    "import utils\n",
    "from models import UNet, SkipNet\n",
    "from denoisers import DIP, DIP_MWV, DIP_TV, DDIP, GaussianBlur, SelfDIP"
   ]
  },
  {
   "cell_type": "code",
   "execution_count": null,
   "metadata": {},
   "outputs": [],
   "source": [
    "# clean = utils.load_celeba(1)\n",
    "# clean = utils.load_images('./data/CBSD68/', Resize((256, 256)))\n",
    "# clean = utils.load_images('./data/Set14/', Resize((256, 256)))\n",
    "clean = utils.load_image(\"./data/set5/butterfly.png\")\n",
    "noisy = torch.stack([utils.get_noisy_image(img, 10) for img in clean])\n",
    "\n",
    "utils.plot_row([clean[0], noisy[0]])"
   ]
  },
  {
   "cell_type": "code",
   "execution_count": null,
   "metadata": {},
   "outputs": [],
   "source": [
    "skipnet1 = SkipNet(3, [8, 16, 32, 64, 128], [0, 0, 0, 4, 4])\n",
    "skipnet2 = SkipNet(3, [128, 128, 128, 128, 128], [4, 4, 4, 4, 4])\n",
    "unet = UNet(hidden_ch=8, n_layers=5)\n",
    "\n",
    "denoisers = [DIP(skipnet1), DIP_MWV(skipnet1), DDIP(skipnet1)]\n",
    "\n",
    "results = {}\n",
    "for denoiser in denoisers:\n",
    "    outputs = []\n",
    "    for i, (x_hat, x) in enumerate(zip(noisy, clean)):\n",
    "        options = {\n",
    "            \"mode\": \"local\",\n",
    "            \"metrics\": [\"psnr\", \"ssim\", \"lpips\"],\n",
    "            \"config\": {\n",
    "                \"project\": \"zero-shot-das-denoising\",\n",
    "                \"entity\": \"jmaen-team\", \n",
    "                \"group\": \"xxx\",\n",
    "                \"dataset\": \"xxx\",\n",
    "                \"id\": i,\n",
    "            }\n",
    "        }\n",
    "        output = denoiser.denoise(x_hat.unsqueeze(0), x.unsqueeze(0), options)\n",
    "        output = output.detach().cpu()\n",
    "        outputs.append(output)\n",
    "\n",
    "    results[str(denoiser)] = torch.cat(outputs)"
   ]
  },
  {
   "cell_type": "code",
   "execution_count": null,
   "metadata": {},
   "outputs": [],
   "source": [
    "for result in zip(noisy, *results.values(), clean):\n",
    "    utils.plot_row(result, [\"Noisy\", *list(results.keys()), \"Clean\"])"
   ]
  },
  {
   "cell_type": "code",
   "execution_count": null,
   "metadata": {},
   "outputs": [],
   "source": [
    "metrics = {\n",
    "    \"PSNR\": PeakSignalNoiseRatio(reduction=None, data_range=1, dim=[1, 2, 3]),\n",
    "    \"SSIM\": StructuralSimilarityIndexMeasure(reduction=None, data_range=1),\n",
    "    \"LPIPS\": LearnedPerceptualImagePatchSimilarity(),\n",
    "}\n",
    "\n",
    "for key, metric in metrics.items():\n",
    "\tprint(key)\n",
    "\tprint(\"----------\")\n",
    "\tprint(f\"Noisy:\".ljust(30), f\"{metric(noisy, clean).mean()}\")\n",
    "\tfor name, xs in results.items():\n",
    "\t\ts = metric(xs, clean)\n",
    "\t\tprint(f\"{name}:\".ljust(30), f\"{s.mean()}\\t{s.tolist()}\")\n",
    "\tprint(\"\\n\")"
   ]
  }
 ],
 "metadata": {
  "kernelspec": {
   "display_name": ".venv",
   "language": "python",
   "name": "python3"
  },
  "language_info": {
   "codemirror_mode": {
    "name": "ipython",
    "version": 3
   },
   "file_extension": ".py",
   "mimetype": "text/x-python",
   "name": "python",
   "nbconvert_exporter": "python",
   "pygments_lexer": "ipython3",
   "version": "3.12.1"
  }
 },
 "nbformat": 4,
 "nbformat_minor": 2
}
