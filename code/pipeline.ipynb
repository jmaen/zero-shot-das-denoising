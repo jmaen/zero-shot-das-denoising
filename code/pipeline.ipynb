{
 "cells": [
  {
   "cell_type": "code",
   "execution_count": null,
   "metadata": {},
   "outputs": [],
   "source": [
    "%load_ext autoreload\n",
    "%autoreload 2\n",
    "%env WANDB_SILENT=true"
   ]
  },
  {
   "cell_type": "code",
   "execution_count": 44,
   "metadata": {},
   "outputs": [],
   "source": [
    "import torch\n",
    "from torchvision.transforms import Resize\n",
    "from torchmetrics.image import PeakSignalNoiseRatio, StructuralSimilarityIndexMeasure, LearnedPerceptualImagePatchSimilarity\n",
    "import utils\n",
    "from models import UNet, SkipNet, ProgNet\n",
    "from denoisers import DIP, DIP_MWV, DIP_TV, DDIP, GaussianBlur, SelfDIP, DDIP_MWV, DDIP_P, DIP_P"
   ]
  },
  {
   "cell_type": "code",
   "execution_count": null,
   "metadata": {},
   "outputs": [],
   "source": [
    "# clean = utils.load_celeba(1)\n",
    "# clean = utils.load_images('./data/CBSD68/', Resize((256, 256)))[:30]\n",
    "clean = utils.load_images('./data/Set14/', Resize((256, 256)))\n",
    "# clean = utils.load_image(\"./data/set5/butterfly.png\")\n",
    "noisy = torch.stack([utils.get_noisy_image(img, 10) for img in clean])\n",
    "\n",
    "utils.plot_row([clean[0], noisy[0]])"
   ]
  },
  {
   "cell_type": "code",
   "execution_count": null,
   "metadata": {},
   "outputs": [],
   "source": [
    "skipnet_none = SkipNet(3, [8, 16, 32, 64, 128], [0, 0, 0, 0, 0], label=\"none\")\n",
    "skipnet_full = SkipNet(3, [8, 16, 32, 64, 128], [4, 4, 4, 4, 4], label=\"full\")\n",
    "skipnet_late = SkipNet(3, [8, 16, 32, 64, 128], [0, 4, 4, 4, 4], label=\"late\")\n",
    "skipnet_early = SkipNet(3, [8, 16, 32, 64, 128], [4, 4, 0, 0, 0], label=\"early\")\n",
    "unet = UNet(hidden_ch=8, n_layers=5)\n",
    "prognet = ProgNet()\n",
    "\n",
    "print(skipnet_full)\n",
    "\n",
    "denoisers = [DIP_MWV(skipnet_late), DIP(skipnet_full), DDIP(skipnet_full), DIP_P(prognet), DDIP_P(prognet)]\n",
    "\n",
    "results = {}\n",
    "for denoiser in denoisers:\n",
    "    outputs = []\n",
    "    for i, (x_hat, x) in enumerate(zip(noisy, clean)):\n",
    "        options = {\n",
    "            \"mode\": \"wandb\",\n",
    "            \"metrics\": [\"psnr\", \"ssim\", \"lpips\"],\n",
    "            \"config\": {\n",
    "                \"project\": \"zero-shot-das-denoising\",\n",
    "                \"entity\": \"jmaen-team\", \n",
    "                \"group\": \"prognet2\",\n",
    "                \"dataset\": \"set14-10\",\n",
    "                \"id\": i,\n",
    "            }\n",
    "        }\n",
    "        output = denoiser.denoise(x_hat.unsqueeze(0), x.unsqueeze(0), options)\n",
    "        output = output.detach().cpu()\n",
    "        outputs.append(output)\n",
    "\n",
    "    results[denoiser.key()] = torch.cat(outputs)"
   ]
  },
  {
   "cell_type": "code",
   "execution_count": null,
   "metadata": {},
   "outputs": [],
   "source": [
    "for result in zip(noisy, *results.values(), clean):\n",
    "    utils.plot_row(result, [\"Noisy\", *list(results.keys()), \"Clean\"])"
   ]
  },
  {
   "cell_type": "code",
   "execution_count": null,
   "metadata": {},
   "outputs": [],
   "source": [
    "metrics = {\n",
    "    \"PSNR\": PeakSignalNoiseRatio(reduction=None, data_range=1, dim=[1, 2, 3]),\n",
    "    \"SSIM\": StructuralSimilarityIndexMeasure(reduction=None, data_range=1),\n",
    "    \"LPIPS\": LearnedPerceptualImagePatchSimilarity(),\n",
    "}\n",
    "\n",
    "for key, metric in metrics.items():\n",
    "\tprint(key)\n",
    "\tprint(\"----------\")\n",
    "\tprint(f\"Noisy:\".ljust(30), f\"{metric(noisy, clean).mean()}\")\n",
    "\tfor name, xs in results.items():\n",
    "\t\ts = metric(xs, clean)\n",
    "\t\tprint(f\"{name}:\".ljust(30), f\"{s.mean()}\\t{s.tolist()}\")\n",
    "\tprint(\"\\n\")"
   ]
  }
 ],
 "metadata": {
  "kernelspec": {
   "display_name": ".venv",
   "language": "python",
   "name": "python3"
  },
  "language_info": {
   "codemirror_mode": {
    "name": "ipython",
    "version": 3
   },
   "file_extension": ".py",
   "mimetype": "text/x-python",
   "name": "python",
   "nbconvert_exporter": "python",
   "pygments_lexer": "ipython3",
   "version": "3.12.1"
  }
 },
 "nbformat": 4,
 "nbformat_minor": 2
}
