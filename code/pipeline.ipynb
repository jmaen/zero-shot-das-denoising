{
 "cells": [
  {
   "cell_type": "code",
   "execution_count": null,
   "metadata": {},
   "outputs": [],
   "source": [
    "%load_ext autoreload\n",
    "%autoreload 2\n",
    "%env WANDB_SILENT=true"
   ]
  },
  {
   "cell_type": "code",
   "execution_count": 7,
   "metadata": {},
   "outputs": [],
   "source": [
    "import math\n",
    "import torch\n",
    "from torchvision.transforms import Resize\n",
    "from torchmetrics.image import PeakSignalNoiseRatio, StructuralSimilarityIndexMeasure, LearnedPerceptualImagePatchSimilarity\n",
    "import utils\n",
    "from models import SkipNet, ProgNet, UNet, UNetMod\n",
    "from denoisers import DIP, DIP_MWV, DIP_TV, DDIP, GaussianBlur, DDIP_P, DIP_Noise, DDIP_AE, DDIP_Dual"
   ]
  },
  {
   "cell_type": "code",
   "execution_count": null,
   "metadata": {},
   "outputs": [],
   "source": [
    "# clean = utils.load_celeba(30)\n",
    "# clean = utils.load_images('./data/CBSD68/', Resize((256, 256)))[10:30]\n",
    "clean = utils.load_images('./data/Set14/', Resize((256, 256)))\n",
    "# clean = utils.load_image(\"./data/set5/butterfly.png\")\n",
    "noisy = torch.stack([utils.get_noisy_image(img, 10) for img in clean])\n",
    "\n",
    "utils.plot_row([clean[0], noisy[0]])"
   ]
  },
  {
   "cell_type": "code",
   "execution_count": 9,
   "metadata": {},
   "outputs": [],
   "source": [
    "def cos(step, start=0, end=1):\n",
    "    if step < start:\n",
    "        return 0\n",
    "    \n",
    "    if step > end:\n",
    "        return 1\n",
    "    \n",
    "    step = (step - start) / (end - start)\n",
    "    return math.cos((math.pi / 2) * (1 - step))**2"
   ]
  },
  {
   "cell_type": "code",
   "execution_count": null,
   "metadata": {},
   "outputs": [],
   "source": [
    "skipnet_none = SkipNet(3, [8, 16, 32, 64, 128], [0, 0, 0, 0, 0], label=\"none\")\n",
    "skipnet_full = SkipNet(3, [8, 16, 32, 64, 128], [4, 4, 4, 4, 4], label=\"full\")\n",
    "skipnet_late = SkipNet(3, [8, 16, 32, 64, 128], [0, 0, 0, 4, 4], label=\"late\")\n",
    "skipnet_early = SkipNet(3, [8, 16, 32, 64, 128], [4, 4, 0, 0, 0], label=\"early\")\n",
    "\n",
    "prognet_fade = ProgNet(label=\"fade\")\n",
    "prognet_full = ProgNet(skip_schedules=[lambda x: 1 for _ in range(4)], label=\"full\")\n",
    "prognet_none = ProgNet(skip_schedules=[lambda x: 0 for _ in range(4)], label=\"full\")\n",
    "prognet_late = ProgNet(skip_schedules=[lambda x: 1 if i > 1 else 0 for i in range(4)], label=\"full\")\n",
    "prognet_gradual0 = ProgNet(skip_schedules=[lambda x, i=i: cos(x, 0.2*i) for i in range(4)][::-1], label=\"gradual0\")\n",
    "prognet_gradual1 = ProgNet(skip_schedules=[lambda x, i=i: cos(x, 0.2*(i + 1)) for i in range(4)][::-1], label=\"gradual1\")\n",
    "prognet_step = ProgNet(skip_schedules=[lambda x, i=i: 1 if x > 0.2*(i + 1) else 0 for i in range(4)][::-1], label=\"step\")\n",
    "\n",
    "unet = UNet(hidden_ch=8, n_layers=4)\n",
    "unetmod = UNetMod(hidden_ch=8, n_layers=4)\n",
    "\n",
    "denoisers = [DDIP(skipnet_full, cos_offset=0.1), DDIP(unetmod, cos_offset=0.1), DDIP(unetmod, cos_offset=0.1)]\n",
    "\n",
    "results = {}\n",
    "for i, denoiser in enumerate(denoisers):\n",
    "    outputs = []\n",
    "    for j, (x_hat, x) in enumerate(zip(noisy, clean)):\n",
    "        options = {\n",
    "            \"mode\": \"wandb\",\n",
    "            \"metrics\": [\"psnr\", \"ssim\", \"lpips\"],\n",
    "            \"save_images\": False,\n",
    "            \"config\": {\n",
    "                \"project\": \"zero-shot-das-denoising\",\n",
    "                \"entity\": \"jmaen-team\",\n",
    "                \"group\": \"architecture comparison 5\",\n",
    "                \"dataset\": \"set14-10\",\n",
    "                \"denoiser_id\": i,\n",
    "                \"data_id\": j,\n",
    "            }\n",
    "        }\n",
    "        output = denoiser.denoise(x_hat.unsqueeze(0), x.unsqueeze(0), options)\n",
    "        output = output.detach().cpu()\n",
    "        outputs.append(output)\n",
    "\n",
    "    results[denoiser.key()] = torch.cat(outputs)"
   ]
  },
  {
   "cell_type": "code",
   "execution_count": null,
   "metadata": {},
   "outputs": [],
   "source": [
    "for result in zip(noisy, *results.values(), clean):\n",
    "    utils.plot_row(result, [\"Noisy\", *list(results.keys()), \"Clean\"])"
   ]
  },
  {
   "cell_type": "code",
   "execution_count": null,
   "metadata": {},
   "outputs": [],
   "source": [
    "metrics = {\n",
    "    \"PSNR\": PeakSignalNoiseRatio(reduction=None, data_range=1, dim=[1, 2, 3]),\n",
    "    \"SSIM\": StructuralSimilarityIndexMeasure(reduction=None, data_range=1),\n",
    "    \"LPIPS\": LearnedPerceptualImagePatchSimilarity(),\n",
    "}\n",
    "\n",
    "for key, metric in metrics.items():\n",
    "\tprint(key)\n",
    "\tprint(\"----------\")\n",
    "\tprint(f\"Noisy:\".ljust(60), f\"{metric(noisy, clean).mean()}\")\n",
    "\tfor name, xs in results.items():\n",
    "\t\ts = metric(xs, clean)\n",
    "\t\tprint(f\"{name}:\".ljust(60), f\"{s.mean()} ({s.var()})\\t{s.tolist()}\")\n",
    "\tprint(\"\\n\")"
   ]
  }
 ],
 "metadata": {
  "kernelspec": {
   "display_name": ".venv",
   "language": "python",
   "name": "python3"
  },
  "language_info": {
   "codemirror_mode": {
    "name": "ipython",
    "version": 3
   },
   "file_extension": ".py",
   "mimetype": "text/x-python",
   "name": "python",
   "nbconvert_exporter": "python",
   "pygments_lexer": "ipython3",
   "version": "3.12.1"
  }
 },
 "nbformat": 4,
 "nbformat_minor": 2
}
