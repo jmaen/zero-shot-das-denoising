{
 "cells": [
  {
   "cell_type": "code",
   "execution_count": null,
   "metadata": {},
   "outputs": [],
   "source": [
    "%load_ext autoreload\n",
    "%autoreload 2\n",
    "%env WANDB_SILENT=true"
   ]
  },
  {
   "cell_type": "code",
   "execution_count": 13,
   "metadata": {},
   "outputs": [],
   "source": [
    "import math\n",
    "import torch\n",
    "from torchvision.transforms import Resize\n",
    "from torchmetrics.image import PeakSignalNoiseRatio, StructuralSimilarityIndexMeasure, LearnedPerceptualImagePatchSimilarity\n",
    "import utils\n",
    "from models import SkipNet, ProgNet, UNet, UNetMod\n",
    "from denoisers import DIP, DIP_MWV, DIP_TV, DDIP, GaussianBlur, DDIP_P,  DIP2Self, DIP2Self_MWV, SGDIP, SGDIP_MWV"
   ]
  },
  {
   "cell_type": "code",
   "execution_count": null,
   "metadata": {},
   "outputs": [],
   "source": [
    "# clean = utils.load_celeba(30)\n",
    "# clean = utils.load_images('./data/CBSD68/')\n",
    "# clean = utils.load_images('./data/Set14/')\n",
    "clean = utils.load_image(\"./data/set5/butterfly.png\")\n",
    "noisy = torch.stack([utils.get_noisy_image(img, 15) for img in clean])\n",
    "\n",
    "utils.plot_row([clean[0], noisy[0]])\n",
    "\n",
    "psnr = PeakSignalNoiseRatio(data_range=2)\n",
    "print(psnr(noisy, clean))"
   ]
  },
  {
   "cell_type": "code",
   "execution_count": 15,
   "metadata": {},
   "outputs": [],
   "source": [
    "def cos(step, start=0, end=1):\n",
    "    if step < start:\n",
    "        return 0\n",
    "    \n",
    "    if step > end:\n",
    "        return 1\n",
    "    \n",
    "    step = (step - start) / (end - start)\n",
    "    return math.cos((math.pi / 2) * (1 - step))**2"
   ]
  },
  {
   "cell_type": "code",
   "execution_count": null,
   "metadata": {},
   "outputs": [],
   "source": [
    "net = UNetMod(hidden_ch=8, n_layers=4)\n",
    "\n",
    "denoisers = [\n",
    "    DIP_MWV(net),\n",
    "    DIP2Self_MWV(net),\n",
    "    SGDIP_MWV(net),\n",
    "    DDIP(net, cos_offset=0.1, sqrt=True),\n",
    "]\n",
    "\n",
    "results = {}\n",
    "for i, denoiser in enumerate(denoisers):\n",
    "    outputs = []\n",
    "    for j, (x_hat, x) in enumerate(zip(noisy, clean)):\n",
    "        options = {\n",
    "            \"mode\": \"local\",\n",
    "            \"metrics\": [\"psnr\", \"ssim\"],\n",
    "            \"save_images\": False,\n",
    "            \"config\": {\n",
    "                \"project\": \"zero-shot-das-denoising\",\n",
    "                \"entity\": \"jmaen-team\",\n",
    "                \"group\": \"sgdip\",\n",
    "                \"dataset\": \"set14-15\",\n",
    "                \"denoiser_id\": i,\n",
    "                \"data_id\": j,\n",
    "            }\n",
    "        }\n",
    "        output = denoiser.denoise(x_hat.unsqueeze(0), x.unsqueeze(0), options)\n",
    "        output = output.detach().cpu()\n",
    "        outputs.append(output)\n",
    "\n",
    "    results[f\"{i} - {denoiser.key()}\"] = torch.cat(outputs)"
   ]
  },
  {
   "cell_type": "code",
   "execution_count": null,
   "metadata": {},
   "outputs": [],
   "source": [
    "for result in zip(noisy, *results.values(), clean):\n",
    "    utils.plot_row(result, [\"Noisy\", *list(results.keys()), \"Clean\"])"
   ]
  },
  {
   "cell_type": "code",
   "execution_count": null,
   "metadata": {},
   "outputs": [],
   "source": [
    "metrics = {\n",
    "    \"PSNR\": PeakSignalNoiseRatio(data_range=2, reduction=None, dim=[1, 2, 3]),\n",
    "    \"SSIM\": StructuralSimilarityIndexMeasure(data_range=2, reduction=None),\n",
    "    # \"LPIPS\": LearnedPerceptualImagePatchSimilarity(),\n",
    "}\n",
    "\n",
    "for key, metric in metrics.items():\n",
    "\tprint(key)\n",
    "\tprint(\"----------\")\n",
    "\tprint(f\"Noisy:\".ljust(60), f\"{metric(noisy, clean).mean()}\")\n",
    "\tfor name, xs in results.items():\n",
    "\t\ts = metric(xs, clean)\n",
    "\t\tprint(f\"{name}:\".ljust(60), f\"{s.mean()} ({s.var()})\\t{s.tolist()}\")\n",
    "\tprint(\"\\n\")"
   ]
  }
 ],
 "metadata": {
  "kernelspec": {
   "display_name": ".venv",
   "language": "python",
   "name": "python3"
  },
  "language_info": {
   "codemirror_mode": {
    "name": "ipython",
    "version": 3
   },
   "file_extension": ".py",
   "mimetype": "text/x-python",
   "name": "python",
   "nbconvert_exporter": "python",
   "pygments_lexer": "ipython3",
   "version": "3.12.1"
  }
 },
 "nbformat": 4,
 "nbformat_minor": 2
}
