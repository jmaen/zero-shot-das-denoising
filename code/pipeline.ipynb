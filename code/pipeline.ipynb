{
 "cells": [
  {
   "cell_type": "code",
   "execution_count": null,
   "metadata": {},
   "outputs": [],
   "source": [
    "%load_ext autoreload\n",
    "%autoreload 2\n",
    "%env WANDB_SILENT=true"
   ]
  },
  {
   "cell_type": "code",
   "execution_count": null,
   "metadata": {},
   "outputs": [],
   "source": [
    "import torch\n",
    "from torchmetrics.image import PeakSignalNoiseRatio, StructuralSimilarityIndexMeasure, LearnedPerceptualImagePatchSimilarity\n",
    "import utils\n",
    "from models import UNetMod, UNetModECA, FC_ECA, FC_ECA1\n",
    "from denoisers.dip import DIP, DDIP, SGDIP, PatchDIP, losses, schedules"
   ]
  },
  {
   "cell_type": "code",
   "execution_count": null,
   "metadata": {},
   "outputs": [],
   "source": [
    "# clean = utils.load_celeba(20)\n",
    "clean = utils.load_images('./data/image/CBSD68/')[torch.randperm(68)[:20]]\n",
    "# clean = utils.load_images('./data/image/Set14/')\n",
    "# clean = utils.load_image(\"./data/image/set5/butterfly.png\")\n",
    "noisy = torch.stack([utils.get_noisy_image(img, 10) for img in clean])\n",
    "\n",
    "utils.plot_row([clean[0], noisy[0]])\n",
    "\n",
    "psnr = PeakSignalNoiseRatio(data_range=2)\n",
    "print(psnr(noisy, clean))"
   ]
  },
  {
   "cell_type": "code",
   "execution_count": null,
   "metadata": {},
   "outputs": [],
   "source": [
    "# networks\n",
    "net = UNetMod(hidden_ch=8, n_layers=4)\n",
    "net1 = UNetModECA(hidden_ch=8, n_layers=4)\n",
    "net2 = UNetModECA(hidden_ch=64, n_layers=2)\n",
    "net3 = FC_ECA(3*24*24, freeze=False)\n",
    "net4 = FC_ECA1(3*24*24, freeze=False)\n",
    "\n",
    "# schedules\n",
    "linear = schedules.Linear(1, 10)\n",
    "cos = schedules.Cos(0.1, 0.9)\n",
    "\n",
    "# losses\n",
    "mse = losses.MSE()\n",
    "nmse = losses.NMSE()\n",
    "\n",
    "mse_ae = losses.Compose(losses.MSE(), losses.AE())\n",
    "nmse_ae = losses.Compose(losses.NMSE(), losses.AE())\n",
    "\n",
    "mse_tv = losses.Compose(losses.MSE(), losses.TV(), alpha=0.1)\n",
    "nmse_tv = losses.Compose(losses.NMSE(), losses.TV(), alpha=0.1)\n",
    "\n",
    "# variants\n",
    "dip = DIP(net, losses.MSE())\n",
    "dip_es = DIP(net, losses.MSE(), early_stopping=True)\n",
    "dip_neighbor = DIP(net, losses.NMSE())\n",
    "dip_neighbor_es = DIP(net, losses.NMSE(), early_stopping=True)\n",
    "dip_tv = DIP(net, mse_tv)\n",
    "dip_tv_es = DIP(net, mse_tv, early_stopping=True)\n",
    "\n",
    "sgdip = SGDIP(net, mse_ae)\n",
    "sgdip_es = SGDIP(net, mse_ae, early_stopping=True)\n",
    "sgdip_neighbor = SGDIP(net, nmse_ae)\n",
    "sgdip_neighbor_es = SGDIP(net, nmse_ae, early_stopping=True)\n",
    "\n",
    "ddip = DDIP(net, losses.MSE(), cos)\n",
    "ddip_3 = DDIP(net, losses.MSE(), cos, k=3)\n",
    "ddip_neighbor = DDIP(net, losses.NMSE(), cos)\n",
    "\n",
    "patch_dip = PatchDIP(net2, losses.MSE(), epochs=20, threshold=0.2)\n",
    "patch_dip2 = PatchDIP(net4, losses.MSE(), epochs=20, threshold=0.2)"
   ]
  },
  {
   "cell_type": "code",
   "execution_count": null,
   "metadata": {},
   "outputs": [],
   "source": [
    "denoisers = [\n",
    "    # sgdip_neighbor_es,\n",
    "    # sgdip_es,\n",
    "    # SGDIP(net, mse_ae.with_alpha(linear)),\n",
    "    # SGDIP(net, nmse_ae.with_alpha(linear)),\n",
    "    # dip_es,\n",
    "    # dip_tv,\n",
    "    # ddip,\n",
    "    # ddip_neighbor,\n",
    "    ddip,\n",
    "    ddip_3,\n",
    "    # patch_dip2,\n",
    "    DIP(net1, mse, early_stopping=True),\n",
    "    # SGDIP(net1, mse_ae, early_stopping=True),\n",
    "    # SGDIP(net1, mse_ae.with_alpha(linear)),\n",
    "    # SGDIP(net1, nmse_ae.with_alpha(linear)),\n",
    "    # DDIP(net1, mse, cos),\n",
    "    # DIP(net, mse, early_stopping=True),\n",
    "    # SGDIP(net, mse_ae, early_stopping=True),\n",
    "    # SGDIP(net, mse_ae.with_alpha(linear)),\n",
    "    # SGDIP(net, nmse_ae.with_alpha(linear)),\n",
    "    # DDIP(net, mse, cos),\n",
    "]\n",
    "\n",
    "metrics = {\n",
    "    \"psnr\": PeakSignalNoiseRatio(data_range=2),\n",
    "    \"ssim\": StructuralSimilarityIndexMeasure(data_range=2),\n",
    "}\n",
    "\n",
    "results = {}\n",
    "for i, denoiser in enumerate(denoisers):\n",
    "    outputs = []\n",
    "    for j, (y, x) in enumerate(zip(noisy, clean)):\n",
    "        options = {\n",
    "            \"mode\": \"wandb\",\n",
    "            \"config\": {\n",
    "                \"out_dir\": \"output/videos\",\n",
    "                \"project\": \"zero-shot-das-denoising\",\n",
    "                \"entity\": \"jmaen-team\",\n",
    "                \"group\": \"ddip k3\",\n",
    "                \"dataset\": \"cbsd68-10\",\n",
    "                \"denoiser_id\": i,\n",
    "                \"data_id\": j,\n",
    "            },\n",
    "            \"metrics\": metrics,\n",
    "            \"log_output\": False,\n",
    "        }\n",
    "        output, _, _ = denoiser.denoise(y.unsqueeze(0), x.unsqueeze(0), options)\n",
    "        output = output.detach().clone().cpu()\n",
    "        outputs.append(output)\n",
    "\n",
    "    results[f\"{i} - {denoiser.name()}\"] = torch.cat(outputs)"
   ]
  },
  {
   "cell_type": "code",
   "execution_count": null,
   "metadata": {},
   "outputs": [],
   "source": [
    "for result in zip(noisy, *results.values(), clean):\n",
    "    utils.plot_row(result, [\"Noisy\", *list(results.keys()), \"Clean\"])"
   ]
  },
  {
   "cell_type": "code",
   "execution_count": null,
   "metadata": {},
   "outputs": [],
   "source": [
    "metrics = {\n",
    "    \"PSNR\": PeakSignalNoiseRatio(data_range=2, reduction=None, dim=[1, 2, 3]),\n",
    "    \"SSIM\": StructuralSimilarityIndexMeasure(data_range=2, reduction=None),\n",
    "    # \"LPIPS\": LearnedPerceptualImagePatchSimilarity(),\n",
    "}\n",
    "\n",
    "for key, metric in metrics.items():\n",
    "\tprint(key)\n",
    "\tprint(\"----------\")\n",
    "\tprint(f\"Noisy:\".ljust(60), f\"{metric(noisy, clean).mean()}\")\n",
    "\tfor name, xs in results.items():\n",
    "\t\ts = metric(xs, clean)\n",
    "\t\tprint(f\"{name}:\".ljust(60), f\"{s.mean()} ({s.var()})\\t{s.tolist()}\")\n",
    "\tprint(\"\\n\")"
   ]
  }
 ],
 "metadata": {
  "kernelspec": {
   "display_name": ".venv",
   "language": "python",
   "name": "python3"
  },
  "language_info": {
   "codemirror_mode": {
    "name": "ipython",
    "version": 3
   },
   "file_extension": ".py",
   "mimetype": "text/x-python",
   "name": "python",
   "nbconvert_exporter": "python",
   "pygments_lexer": "ipython3",
   "version": "3.12.1"
  }
 },
 "nbformat": 4,
 "nbformat_minor": 2
}
