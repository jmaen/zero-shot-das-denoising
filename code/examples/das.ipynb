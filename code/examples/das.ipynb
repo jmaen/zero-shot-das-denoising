{
 "cells": [
  {
   "cell_type": "code",
   "execution_count": 7,
   "metadata": {},
   "outputs": [],
   "source": [
    "import sys\n",
    "from pathlib import Path\n",
    "\n",
    "# Add the parent directory to sys.path\n",
    "parent_dir = Path().resolve().parent\n",
    "sys.path.append(str(parent_dir))"
   ]
  },
  {
   "cell_type": "code",
   "execution_count": 8,
   "metadata": {},
   "outputs": [],
   "source": [
    "import numpy as np\n",
    "import torch\n",
    "from scipy import signal\n",
    "import obspy.io.segy.core as op\n",
    "from models import *\n",
    "from denoisers.dip import losses, schedules, SGDIP\n",
    "from utils.das import *"
   ]
  },
  {
   "cell_type": "code",
   "execution_count": 9,
   "metadata": {},
   "outputs": [],
   "source": [
    "file = '../data/das/FORGE/FORGE_78-32_iDASv3-P11_UTC190428070308.sgy'\n",
    "stream = op._read_segy(file, format='segy')\n",
    "noisy = np.vstack([trace.data for trace in stream])\n",
    "\n",
    "noisy = noisy[200:960 + 200, 19500:21500]\n",
    "noisy = signal.resample(noisy, 1000, axis=1)\n",
    "\n",
    "noisy /= noisy.std()"
   ]
  },
  {
   "cell_type": "code",
   "execution_count": 10,
   "metadata": {},
   "outputs": [],
   "source": [
    "pre_processed = bandpass(noisy, 1, 200, 1000)\n",
    "pre_processed = substract_median(pre_processed)\n",
    "pre_processed, local_std = normalize(pre_processed)\n",
    "\n",
    "y = torch.Tensor(pre_processed.copy()).unsqueeze(0).unsqueeze(0)"
   ]
  },
  {
   "cell_type": "code",
   "execution_count": 11,
   "metadata": {},
   "outputs": [],
   "source": [
    "net = UNetECA(in_ch=1, out_ch=1)\n",
    "schedule = schedules.Linear(1, 10)\n",
    "loss = losses.Compose(losses.MSE(), losses.AE(), schedule)\n",
    "sgdip = SGDIP(net, loss, max_epochs=300, ratio=0.5)"
   ]
  },
  {
   "cell_type": "code",
   "execution_count": null,
   "metadata": {},
   "outputs": [],
   "source": [
    "x_hat, _, _ = sgdip.denoise(y)\n",
    "x_hat = x_hat.detach().clone().cpu()"
   ]
  },
  {
   "cell_type": "code",
   "execution_count": 13,
   "metadata": {},
   "outputs": [],
   "source": [
    "denoised = x_hat.squeeze().numpy()\n",
    "denoised = denoised * local_std\n",
    "\n",
    "diff = noisy - denoised"
   ]
  },
  {
   "cell_type": "code",
   "execution_count": null,
   "metadata": {},
   "outputs": [],
   "source": [
    "clip = 2\n",
    "\n",
    "fig, axes = plt.subplots(1, 3, figsize=(20, 4), sharex=True, sharey=True)\n",
    "\n",
    "im1 = axes[0].imshow(noisy, origin='lower', aspect='auto', cmap='seismic', interpolation='none', vmin=-clip, vmax=clip)\n",
    "axes[0].set_title('Noisy Signal')\n",
    "\n",
    "axes[1].imshow(denoised, origin='lower', aspect='auto', cmap='seismic', interpolation='none', vmin=-clip, vmax=clip)\n",
    "axes[1].set_title('Denoised Signal')\n",
    "\n",
    "axes[2].imshow(diff, origin='lower', aspect='auto', cmap='seismic', interpolation='none', vmin=-clip, vmax=clip)\n",
    "axes[2].set_title('Removed Noise')\n",
    "\n",
    "fig.supxlabel('Time', y=-0.02)\n",
    "fig.supylabel('Channels', x=0.1)\n",
    "\n",
    "cbar = fig.colorbar(im1, ax=axes, orientation='vertical', fraction=0.01)\n",
    "cbar.ax.set_position([0.91, 0.1, 0.2, 0.8])\n",
    "\n",
    "plt.subplots_adjust(wspace=0.05)\n",
    "plt.show()"
   ]
  }
 ],
 "metadata": {
  "kernelspec": {
   "display_name": ".venv",
   "language": "python",
   "name": "python3"
  },
  "language_info": {
   "codemirror_mode": {
    "name": "ipython",
    "version": 3
   },
   "file_extension": ".py",
   "mimetype": "text/x-python",
   "name": "python",
   "nbconvert_exporter": "python",
   "pygments_lexer": "ipython3",
   "version": "3.12.8"
  }
 },
 "nbformat": 4,
 "nbformat_minor": 2
}
