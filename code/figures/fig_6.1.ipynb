{
 "cells": [
  {
   "cell_type": "code",
   "execution_count": null,
   "metadata": {},
   "outputs": [
    {
     "data": {
      "text/plain": [
       "(4, 10, 256, 256, 3)"
      ]
     },
     "execution_count": 4,
     "metadata": {},
     "output_type": "execute_result"
    }
   ],
   "source": [
    "import numpy as np\n",
    "import matplotlib.pyplot as plt\n",
    "\n",
    "results = np.load(\"results.npy\")\n",
    "results = np.swapaxes(results, 0, 1)\n",
    "\n",
    "pad = np.random.random((4, 2, 256, 256, 3))\n",
    "results = np.hstack((results, pad))\n",
    "\n",
    "results.shape"
   ]
  },
  {
   "cell_type": "code",
   "execution_count": 15,
   "metadata": {},
   "outputs": [],
   "source": [
    "image_array = results.copy()  # Shape (4, 10, 256, 256, 3)\n",
    "labels = [\"Noisy\", \"DIP\", \"DIP (ES)\", \"DIP-TV\", \"DDIP\", \"SG-DIP (ES)\", \"SGR-DIP\", \"Clean\", \"XXX\", \"XXX\"]"
   ]
  },
  {
   "cell_type": "code",
   "execution_count": null,
   "metadata": {},
   "outputs": [
    {
     "name": "stdout",
     "output_type": "stream",
     "text": [
      "Saved 4 block images as 'block_0.png', 'block_1.png', etc.\n"
     ]
    }
   ],
   "source": [
    "blocks = 4\n",
    "rows_per_block = 2\n",
    "cols_per_block = 5\n",
    "\n",
    "for block_idx in range(blocks):\n",
    "    fig, axes = plt.subplots(nrows=rows_per_block, ncols=cols_per_block, figsize=(10, 4))\n",
    "\n",
    "    block_images = image_array[block_idx]\n",
    "\n",
    "    for img_idx in range(10):\n",
    "        row = img_idx // cols_per_block\n",
    "        col = img_idx % cols_per_block\n",
    "        \n",
    "        axes[row, col].imshow(block_images[img_idx], aspect='auto')\n",
    "        axes[row, col].get_xaxis().set_ticks([])\n",
    "        axes[row, col].get_yaxis().set_ticks([])\n",
    "        \n",
    "        label = labels[img_idx]\n",
    "        if img_idx < cols_per_block:\n",
    "            axes[row, col].set_title(label, fontsize=10, pad=5)\n",
    "        else:\n",
    "            axes[row, col].set_xlabel(label, fontsize=10, labelpad=5)\n",
    "\n",
    "    plt.subplots_adjust(wspace=0.05, hspace=0.05)\n",
    "    plt.savefig(f\"fig_6.1_{block_idx}.png\", bbox_inches=\"tight\", pad_inches=0.01, dpi=200)\n",
    "    plt.close(fig)"
   ]
  }
 ],
 "metadata": {
  "kernelspec": {
   "display_name": ".venv",
   "language": "python",
   "name": "python3"
  },
  "language_info": {
   "codemirror_mode": {
    "name": "ipython",
    "version": 3
   },
   "file_extension": ".py",
   "mimetype": "text/x-python",
   "name": "python",
   "nbconvert_exporter": "python",
   "pygments_lexer": "ipython3",
   "version": "3.12.1"
  }
 },
 "nbformat": 4,
 "nbformat_minor": 2
}
