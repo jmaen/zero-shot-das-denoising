{
 "cells": [
  {
   "cell_type": "code",
   "execution_count": 44,
   "metadata": {},
   "outputs": [],
   "source": [
    "import numpy as np\n",
    "import matplotlib.pyplot as plt\n",
    "\n",
    "results = np.load(\"results.npy\")"
   ]
  },
  {
   "cell_type": "code",
   "execution_count": null,
   "metadata": {},
   "outputs": [],
   "source": [
    "labels = [\"Noisy\", \"DIP\", \"DIP (ES)\", \"DIP-TV\", \"DIP-TV (ES)\", \"Clean\", \"DDIP\", \"SG-DIP\", \"SG-DIP (ES)\", \"SGR-DIP\"]\n",
    "\n",
    "blocks = 3\n",
    "rows_per_block = 2\n",
    "cols_per_block = 5\n",
    "\n",
    "for block_idx in range(blocks):\n",
    "    fig, axes = plt.subplots(nrows=rows_per_block, ncols=cols_per_block, figsize=(10, 4))\n",
    "\n",
    "    block_images = results[block_idx]\n",
    "\n",
    "    for img_idx in range(10):\n",
    "        row = img_idx // cols_per_block\n",
    "        col = img_idx % cols_per_block\n",
    "        \n",
    "        axes[row, col].imshow(block_images[img_idx], aspect='auto')\n",
    "        axes[row, col].get_xaxis().set_ticks([])\n",
    "        axes[row, col].get_yaxis().set_ticks([])\n",
    "        \n",
    "        label = labels[img_idx]\n",
    "        if img_idx < cols_per_block:\n",
    "            axes[row, col].set_title(label, fontsize=10, pad=5)\n",
    "        else:\n",
    "            axes[row, col].set_xlabel(label, fontsize=10, labelpad=5)\n",
    "\n",
    "    plt.subplots_adjust(wspace=0.05, hspace=0.05)\n",
    "    # plt.show()\n",
    "    plt.savefig(f\"fig_6.2_{block_idx}.png\", bbox_inches=\"tight\", pad_inches=0.01, dpi=200)\n",
    "    plt.close(fig)"
   ]
  }
 ],
 "metadata": {
  "kernelspec": {
   "display_name": ".venv",
   "language": "python",
   "name": "python3"
  },
  "language_info": {
   "codemirror_mode": {
    "name": "ipython",
    "version": 3
   },
   "file_extension": ".py",
   "mimetype": "text/x-python",
   "name": "python",
   "nbconvert_exporter": "python",
   "pygments_lexer": "ipython3",
   "version": "3.12.1"
  }
 },
 "nbformat": 4,
 "nbformat_minor": 2
}
